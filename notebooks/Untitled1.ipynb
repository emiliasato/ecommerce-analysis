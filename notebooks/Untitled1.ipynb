{
 "cells": [
  {
   "cell_type": "code",
   "execution_count": 15,
   "id": "33e048a2-e3a8-4ee9-874e-7a5cb56cb9ed",
   "metadata": {},
   "outputs": [],
   "source": [
    "from collections import Counter\n",
    "import random"
   ]
  },
  {
   "cell_type": "code",
   "execution_count": 16,
   "id": "560a535a-69c2-4035-9376-c1f8a2e338fb",
   "metadata": {},
   "outputs": [],
   "source": [
    "obj_list = [\"A\",\"C\",\"C\",\"D\",\"E\"]"
   ]
  },
  {
   "cell_type": "code",
   "execution_count": 18,
   "id": "ad3fec91-8e87-484e-b91e-61fa0f990676",
   "metadata": {},
   "outputs": [],
   "source": [
    "dct = {}\n",
    "for obj in obj_list:\n",
    "    dct[obj] = 0"
   ]
  },
  {
   "cell_type": "code",
   "execution_count": 19,
   "id": "c3262845-631f-4144-bf55-0b0090e6ad49",
   "metadata": {},
   "outputs": [
    {
     "data": {
      "text/plain": [
       "{'A': 0, 'C': 0, 'D': 0, 'E': 0}"
      ]
     },
     "execution_count": 19,
     "metadata": {},
     "output_type": "execute_result"
    }
   ],
   "source": [
    "dct"
   ]
  },
  {
   "cell_type": "code",
   "execution_count": 20,
   "id": "72bbeba3-5ff7-410a-8afc-157aa20d5125",
   "metadata": {},
   "outputs": [],
   "source": [
    "for i in range(100):\n",
    "    dct[random.choice(obj_list)] += 1"
   ]
  },
  {
   "cell_type": "code",
   "execution_count": 21,
   "id": "627beebd-d5ce-487a-aef5-157a11a2e7a2",
   "metadata": {},
   "outputs": [
    {
     "data": {
      "text/plain": [
       "{'A': 17, 'C': 42, 'D': 18, 'E': 23}"
      ]
     },
     "execution_count": 21,
     "metadata": {},
     "output_type": "execute_result"
    }
   ],
   "source": [
    "dct"
   ]
  },
  {
   "cell_type": "code",
   "execution_count": 22,
   "id": "76af9144-8374-4336-84ea-fdfc8a8cbf44",
   "metadata": {},
   "outputs": [],
   "source": [
    "counter = Counter()"
   ]
  },
  {
   "cell_type": "code",
   "execution_count": 23,
   "id": "c0317e84-bfb1-4d5d-9247-23aa4c13efe0",
   "metadata": {},
   "outputs": [],
   "source": [
    " for i in range(100):\n",
    "    counter[random.choice(obj_list)] += 1"
   ]
  },
  {
   "cell_type": "code",
   "execution_count": 25,
   "id": "632902f3-d0d5-4120-b7ee-04e872d7a6b2",
   "metadata": {},
   "outputs": [
    {
     "data": {
      "text/plain": [
       "100"
      ]
     },
     "execution_count": 25,
     "metadata": {},
     "output_type": "execute_result"
    }
   ],
   "source": [
    "counter.total()"
   ]
  },
  {
   "cell_type": "code",
   "execution_count": 28,
   "id": "443edc72-f7df-4638-8053-d7351a535052",
   "metadata": {},
   "outputs": [],
   "source": [
    "ocurrences = random.choices(obj_list,k=100)"
   ]
  },
  {
   "cell_type": "code",
   "execution_count": 35,
   "id": "4c48c61a-8797-4647-abdf-715117746e0e",
   "metadata": {},
   "outputs": [
    {
     "data": {
      "text/plain": [
       "[('C', 30), ('D', 25), ('A', 23), ('E', 22)]"
      ]
     },
     "execution_count": 35,
     "metadata": {},
     "output_type": "execute_result"
    }
   ],
   "source": [
    "Counter(ocurrences).most_common()"
   ]
  },
  {
   "cell_type": "code",
   "execution_count": null,
   "id": "59978bde-5a56-44f0-ba4a-af083959bca6",
   "metadata": {},
   "outputs": [],
   "source": []
  },
  {
   "cell_type": "code",
   "execution_count": 55,
   "id": "3e6af1d4-70bd-4e3b-a089-cacffbd93e20",
   "metadata": {},
   "outputs": [],
   "source": [
    "grid = [[1,2,1,9],\n",
    "                   [2,8,9,2],\n",
    "                   [1,2,1,9],\n",
    "                   [9,2,6,3]]"
   ]
  },
  {
   "cell_type": "code",
   "execution_count": 59,
   "id": "bf49d372-d20e-4197-a9c9-6e557ab8a18e",
   "metadata": {},
   "outputs": [
    {
     "data": {
      "text/plain": [
       "<zip at 0x1062beac0>"
      ]
     },
     "execution_count": 59,
     "metadata": {},
     "output_type": "execute_result"
    }
   ],
   "source": [
    "tspe = zip(*grid)\n",
    "tspe"
   ]
  },
  {
   "cell_type": "code",
   "execution_count": 61,
   "id": "9497e785-7cbf-415c-8f3e-c3427cd477c6",
   "metadata": {},
   "outputs": [],
   "source": [
    "tspe = Counter(zip(*grid))"
   ]
  },
  {
   "cell_type": "code",
   "execution_count": 62,
   "id": "2052f3cd-c120-4980-a085-3d474aadf033",
   "metadata": {
    "scrolled": true
   },
   "outputs": [],
   "source": [
    "grid = Counter(map(tuple,grid))"
   ]
  },
  {
   "cell_type": "code",
   "execution_count": 64,
   "id": "17d6b302-28d8-4b6d-983a-7a4833297c09",
   "metadata": {
    "scrolled": true
   },
   "outputs": [
    {
     "data": {
      "text/plain": [
       "Counter({(1, 2, 1, 9): 1, (2, 8, 2, 2): 1, (1, 9, 1, 6): 1, (9, 2, 9, 3): 1})"
      ]
     },
     "execution_count": 64,
     "metadata": {},
     "output_type": "execute_result"
    }
   ],
   "source": [
    "tspe"
   ]
  },
  {
   "cell_type": "code",
   "execution_count": 65,
   "id": "3643d05d-85f1-46d6-9542-679a960214a4",
   "metadata": {},
   "outputs": [
    {
     "data": {
      "text/plain": [
       "Counter({(1, 2, 1, 9): 2, (2, 8, 9, 2): 1, (9, 2, 6, 3): 1})"
      ]
     },
     "execution_count": 65,
     "metadata": {},
     "output_type": "execute_result"
    }
   ],
   "source": [
    "grid"
   ]
  },
  {
   "cell_type": "code",
   "execution_count": 84,
   "id": "08eba7e0-f6ec-4258-b951-322f02196331",
   "metadata": {},
   "outputs": [
    {
     "name": "stdout",
     "output_type": "stream",
     "text": [
      "chars[i-1] a\n",
      "s = a\n",
      "chars[i-1] b\n",
      "s = ab\n",
      "chars[i-1] b\n",
      "s = abc\n"
     ]
    },
    {
     "data": {
      "text/plain": [
       "['a', 'b', 'c', 'a', 'b', 'c']"
      ]
     },
     "execution_count": 84,
     "metadata": {},
     "output_type": "execute_result"
    }
   ],
   "source": [
    "    def compress(chars):\n",
    "        \"\"\"\n",
    "        :type chars: List[str]\n",
    "        :rtype: int\n",
    "        \"\"\"\n",
    "        counter = 1\n",
    "        s= ''\n",
    "        if len(chars) == 1:\n",
    "            return len(chars)\n",
    "        \n",
    "        for i in range(1,len(chars)):\n",
    "            if chars[i] == chars[i-1]:\n",
    "                counter+=1\n",
    "            else:\n",
    "                s += chars[i-1]\n",
    "                print(\"chars[i-1]\",chars[i-1])\n",
    "                print(\"s =\",s)\n",
    "                if counter > 1:\n",
    "                    s += str(counter)\n",
    "                counter = 1\n",
    "            if  i == len(chars)-1:\n",
    "                s += chars[i]\n",
    "                print(\"chars[i-1]\",chars[i-1])\n",
    "                print(\"s =\",s)\n",
    "                if counter > 1:\n",
    "                    s += str(counter)\n",
    "        for c in s[::-1]:\n",
    "            chars.insert(0,c)\n",
    "\n",
    "        return len(s)\n",
    "a = [\"a\",\"b\",\"c\"]\n",
    "compress(a)\n",
    "a"
   ]
  },
  {
   "cell_type": "code",
   "execution_count": 85,
   "id": "2a1f514b-1a30-41e0-a754-4ae4eacfb654",
   "metadata": {},
   "outputs": [],
   "source": [
    "s = \"*123*\""
   ]
  },
  {
   "cell_type": "code",
   "execution_count": 87,
   "id": "7d6a7c89-1b96-426a-be6e-ad0972df198a",
   "metadata": {},
   "outputs": [
    {
     "data": {
      "text/plain": [
       "0"
      ]
     },
     "execution_count": 87,
     "metadata": {},
     "output_type": "execute_result"
    }
   ],
   "source": [
    "s.index('*')"
   ]
  },
  {
   "cell_type": "code",
   "execution_count": 88,
   "id": "f6fc29b0-1d31-4051-a7a7-0d1c62759ba6",
   "metadata": {},
   "outputs": [
    {
     "data": {
      "text/plain": [
       "True"
      ]
     },
     "execution_count": 88,
     "metadata": {},
     "output_type": "execute_result"
    }
   ],
   "source": [
    "'*' in s"
   ]
  },
  {
   "cell_type": "code",
   "execution_count": 89,
   "id": "61b1f48a-402c-445c-ac08-e0f65d70f7d6",
   "metadata": {
    "scrolled": true
   },
   "outputs": [
    {
     "ename": "AttributeError",
     "evalue": "'str' object has no attribute 'pop'",
     "output_type": "error",
     "traceback": [
      "\u001b[0;31m---------------------------------------------------------------------------\u001b[0m",
      "\u001b[0;31mAttributeError\u001b[0m                            Traceback (most recent call last)",
      "Cell \u001b[0;32mIn[89], line 1\u001b[0m\n\u001b[0;32m----> 1\u001b[0m \u001b[43ms\u001b[49m\u001b[38;5;241;43m.\u001b[39;49m\u001b[43mpop\u001b[49m(\u001b[38;5;241m0\u001b[39m)\n",
      "\u001b[0;31mAttributeError\u001b[0m: 'str' object has no attribute 'pop'"
     ]
    }
   ],
   "source": [
    "s.pop(0)"
   ]
  },
  {
   "cell_type": "code",
   "execution_count": 109,
   "id": "5be7f8c9-7034-4b76-94fc-8d12fff114fd",
   "metadata": {
    "scrolled": true
   },
   "outputs": [
    {
     "data": {
      "text/plain": [
       "[10]"
      ]
     },
     "execution_count": 109,
     "metadata": {},
     "output_type": "execute_result"
    }
   ],
   "source": [
    "def asteroidCollision(asteroids):\n",
    "    \"\"\"\n",
    "    :type asteroids: List[int]\n",
    "    :rtype: List[int]\n",
    "    \"\"\"\n",
    "    new = []\n",
    "    i,j = 0,len(asteroids)-1\n",
    "    while i<j:\n",
    "        if \n",
    "s =  [5,10,-5]\n",
    "asteroidCollision(s)"
   ]
  },
  {
   "cell_type": "code",
   "execution_count": 2,
   "id": "c69f55ba-55b2-4c6e-9bbe-d366adf2daf1",
   "metadata": {
    "scrolled": true
   },
   "outputs": [
    {
     "data": {
      "text/plain": [
       "True"
      ]
     },
     "execution_count": 2,
     "metadata": {},
     "output_type": "execute_result"
    }
   ],
   "source": [
    "a = '1'\n",
    "s = ''\n",
    "a.isdigit()"
   ]
  },
  {
   "cell_type": "code",
   "execution_count": 3,
   "id": "4569f0e6-4bab-4256-84f0-0c1e16389d62",
   "metadata": {},
   "outputs": [],
   "source": [
    "s += a"
   ]
  },
  {
   "cell_type": "code",
   "execution_count": 4,
   "id": "2933a5d6-abcf-42f6-8761-bd2c09df21c0",
   "metadata": {},
   "outputs": [
    {
     "data": {
      "text/plain": [
       "'1'"
      ]
     },
     "execution_count": 4,
     "metadata": {},
     "output_type": "execute_result"
    }
   ],
   "source": [
    "s"
   ]
  },
  {
   "cell_type": "code",
   "execution_count": 22,
   "id": "a6a0ab80-c123-4822-a79a-8033229b84cd",
   "metadata": {},
   "outputs": [],
   "source": [
    "def decodeString(s):\n",
    "    \"\"\"\n",
    "    :type s: str\n",
    "    :rtype: str\n",
    "    \"\"\"\n",
    "    dcde = []\n",
    "    k = ''\n",
    "    for char in s:\n",
    "        if char.isdigit():\n",
    "            k += char\n",
    "        elif char == \"[\":\n",
    "            dcde += ['a']*int(k)\n",
    "            k = ''\n",
    "    return dcde"
   ]
  },
  {
   "cell_type": "code",
   "execution_count": 23,
   "id": "87c5948f-58b0-4697-a911-0b8b9013b3c6",
   "metadata": {
    "scrolled": true
   },
   "outputs": [
    {
     "data": {
      "text/plain": [
       "['a', 'a', 'a', 'a', 'a']"
      ]
     },
     "execution_count": 23,
     "metadata": {},
     "output_type": "execute_result"
    }
   ],
   "source": [
    "decodeString(\"3[a2[c]]\")"
   ]
  },
  {
   "cell_type": "code",
   "execution_count": 1,
   "id": "bb6e98f9-2567-4e07-8c39-8d3b4a28c045",
   "metadata": {},
   "outputs": [
    {
     "name": "stdout",
     "output_type": "stream",
     "text": [
      "['apple', 'banana', 'cherry']\n"
     ]
    }
   ],
   "source": [
    "thislist = [\"apple\", \"banana\", \"cherry\"]\n",
    "mylist = thislist.copy()\n",
    "print(mylist)\n"
   ]
  },
  {
   "cell_type": "code",
   "execution_count": 8,
   "id": "b7140815-7502-40e9-982a-db13186f7edb",
   "metadata": {
    "scrolled": true
   },
   "outputs": [
    {
     "name": "stdout",
     "output_type": "stream",
     "text": [
      "0 ['D', 'D', 'R', 'R', 'D'] D\n",
      "1 ['D', 'D', 'R', 'D'] D\n",
      "2 ['D', 'D', 'D'] D\n"
     ]
    },
    {
     "ename": "ValueError",
     "evalue": "list.remove(x): x not in list",
     "output_type": "error",
     "traceback": [
      "\u001b[0;31m---------------------------------------------------------------------------\u001b[0m",
      "\u001b[0;31mValueError\u001b[0m                                Traceback (most recent call last)",
      "Cell \u001b[0;32mIn[8], line 6\u001b[0m\n\u001b[1;32m      4\u001b[0m \u001b[38;5;28mprint\u001b[39m(i,senate,s)\n\u001b[1;32m      5\u001b[0m \u001b[38;5;28;01mif\u001b[39;00m s \u001b[38;5;241m==\u001b[39m \u001b[38;5;124m\"\u001b[39m\u001b[38;5;124mD\u001b[39m\u001b[38;5;124m\"\u001b[39m:\n\u001b[0;32m----> 6\u001b[0m     \u001b[43msenate\u001b[49m\u001b[38;5;241;43m.\u001b[39;49m\u001b[43mremove\u001b[49m\u001b[43m(\u001b[49m\u001b[38;5;124;43m'\u001b[39;49m\u001b[38;5;124;43mR\u001b[39;49m\u001b[38;5;124;43m'\u001b[39;49m\u001b[43m)\u001b[49m\n\u001b[1;32m      7\u001b[0m \u001b[38;5;28;01melse\u001b[39;00m:\n\u001b[1;32m      8\u001b[0m     senate\u001b[38;5;241m.\u001b[39mremove(\u001b[38;5;124m'\u001b[39m\u001b[38;5;124mD\u001b[39m\u001b[38;5;124m'\u001b[39m)\n",
      "\u001b[0;31mValueError\u001b[0m: list.remove(x): x not in list"
     ]
    }
   ],
   "source": [
    "senate = ['D','D','R','R','D']\n",
    "\n",
    "for i,s in enumerate(senate):\n",
    "    print(i,senate,s)\n",
    "    if s == \"D\":\n",
    "        senate.remove('R')\n",
    "    else:b\n",
    "        senate.remove('D')\n",
    "    \n"
   ]
  },
  {
   "cell_type": "code",
   "execution_count": 16,
   "id": "ecf502d8-f1b2-423e-8d76-330107e990c9",
   "metadata": {
    "scrolled": true
   },
   "outputs": [
    {
     "name": "stdout",
     "output_type": "stream",
     "text": [
      "D\n",
      "['D', 'R', 'R', 'D']\n",
      "['D', 'R', 'D']\n",
      "R\n",
      "['D', 'R', 'D']\n",
      "['R', 'D']\n",
      "R\n",
      "['R', 'D']\n",
      "['R']\n",
      "R\n",
      "['R']\n"
     ]
    },
    {
     "data": {
      "text/plain": [
       "'Radiant'"
      ]
     },
     "execution_count": 16,
     "metadata": {},
     "output_type": "execute_result"
    }
   ],
   "source": [
    "def predictPartyVictory(senate):\n",
    "    \"\"\"\n",
    "    :type senate: str\n",
    "    :rtype: str\n",
    "    \"\"\"\n",
    "    #\"RD\"\n",
    "    senate = list(senate)\n",
    "    curr = list(senate)\n",
    "    while len(curr) >= 1:\n",
    "        #print(curr)\n",
    "        for s in curr:\n",
    "            print(s)\n",
    "            print(curr)\n",
    "            if len(set(curr)) == 1:\n",
    "                return \"Radiant\" if curr[0] == \"R\" else \"Dire\"\n",
    "            elif s == \"R\":\n",
    "                curr.remove(\"D\")\n",
    "            else:\n",
    "                curr.remove(\"R\")\n",
    "            print(curr)\n",
    "    return \"Radiant\" if curr[0] == \"R\" else \"Dire\"\n",
    "predictPartyVictory('DRRD')"
   ]
  },
  {
   "cell_type": "code",
   "execution_count": 22,
   "id": "eff4ba25-f109-448a-8db7-1178e96f75d0",
   "metadata": {},
   "outputs": [
    {
     "data": {
      "text/plain": [
       "'Dire'"
      ]
     },
     "execution_count": 22,
     "metadata": {},
     "output_type": "execute_result"
    }
   ],
   "source": [
    "senate = 'DRRD'\n",
    "def predictPartyVictory(senate):\n",
    "    rad = []\n",
    "    dir = []\n",
    "    j = 0\n",
    "    n = len(senate)\n",
    "    for i,s in enumerate(senate):\n",
    "        if s=='R':\n",
    "            rad.append(i)\n",
    "        else:\n",
    "            dir.append(i)\n",
    "    lenr = len(rad)\n",
    "    lend = len(dir)\n",
    "    while True:\n",
    "        if lenr != 0 and lend == 0:\n",
    "            return 'Radiant'\n",
    "        elif lend != 0 and lenr == 0:\n",
    "            return 'Dire'\n",
    "        if rad[0] > dir[0]:\n",
    "            rad.pop(0)\n",
    "            dir.pop(0)\n",
    "            rad.append(n)\n",
    "            n+=1\n",
    "            lend-=1\n",
    "        else:\n",
    "            rad.pop(0)\n",
    "            dir.pop(0)\n",
    "            dir.append(n)\n",
    "            n+=1\n",
    "            lenr-=1\n",
    "predictPartyVictory('DRRD')"
   ]
  }
 ],
 "metadata": {
  "kernelspec": {
   "display_name": "Python 3 (ipykernel)",
   "language": "python",
   "name": "python3"
  },
  "language_info": {
   "codemirror_mode": {
    "name": "ipython",
    "version": 3
   },
   "file_extension": ".py",
   "mimetype": "text/x-python",
   "name": "python",
   "nbconvert_exporter": "python",
   "pygments_lexer": "ipython3",
   "version": "3.10.6"
  }
 },
 "nbformat": 4,
 "nbformat_minor": 5
}
